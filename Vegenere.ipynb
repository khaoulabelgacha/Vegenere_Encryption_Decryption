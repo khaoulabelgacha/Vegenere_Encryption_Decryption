{
 "cells": [
  {
   "cell_type": "code",
   "execution_count": 1,
   "id": "3d09dbe6",
   "metadata": {},
   "outputs": [
    {
     "name": "stdout",
     "output_type": "stream",
     "text": [
      "le message après chiffrement avec Vigenere :FPGSHPR\n",
      "le message après déchiffrement avec Vigenere :KHAOULA\n"
     ]
    }
   ],
   "source": [
    "#Algorithm ed Vegenère\n",
    "\n",
    "alphabet = 'ABCDEFGHIJKLMNOPQRSTUVWXYZ'\n",
    "\n",
    "def chiffrer_Vigenere(msg, cle):\n",
    "    msg_c = ''\n",
    "    i = 0\n",
    "    for caractere in msg:\n",
    "        debut = alphabet.find(cle[i])#22\n",
    "        pos = alphabet.find(caractere)#11\n",
    "        indice = pos+debut\n",
    "        if indice > 25:\n",
    "            indice -= 26#7\n",
    "        msg_c += alphabet[indice]\n",
    "        i += 1\n",
    "        if i >= len(cle):\n",
    "            i = 0\n",
    "    return msg_c\n",
    "\n",
    "\n",
    "def dechiffrer_Vigenere(msg,cle):\n",
    "    msg_d = ''\n",
    "    i = 0\n",
    "    for caractere in msg:\n",
    "        debut = alphabet.find(cle[i])#22\n",
    "        pos = alphabet.find(caractere)#11\n",
    "        indice = pos-debut\n",
    "        if indice < 0:\n",
    "            indice += 26#7\n",
    "        msg_d += alphabet[indice]\n",
    "        i += 1\n",
    "        if i >= len(cle):\n",
    "            i = 0\n",
    "    return msg_d  \n",
    "print(f\"le message après chiffrement avec Vigenere :{chiffrer_Vigenere('KHAOULA', 'VIGENERE')}\")\n",
    "print(f\"le message après déchiffrement avec Vigenere :{dechiffrer_Vigenere('FPGSHPR', 'VIGENERE')}\")"
   ]
  },
  {
   "cell_type": "code",
   "execution_count": null,
   "id": "053a66ad",
   "metadata": {},
   "outputs": [],
   "source": []
  }
 ],
 "metadata": {
  "kernelspec": {
   "display_name": "Python 3",
   "language": "python",
   "name": "python3"
  },
  "language_info": {
   "codemirror_mode": {
    "name": "ipython",
    "version": 3
   },
   "file_extension": ".py",
   "mimetype": "text/x-python",
   "name": "python",
   "nbconvert_exporter": "python",
   "pygments_lexer": "ipython3",
   "version": "3.8.8"
  }
 },
 "nbformat": 4,
 "nbformat_minor": 5
}
